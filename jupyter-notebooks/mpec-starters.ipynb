{
 "cells": [
  {
   "cell_type": "markdown",
   "metadata": {
    "collapsed": true,
    "deletable": true,
    "editable": true
   },
   "source": [
    "# MPEC for Starters\n",
    "\n",
    "Think of a consumer who decides how much of a certain good to consume, given prices. The consumer's behaviour is dictated by a preference parameter $\\beta$, which is unobserved. We only observe data on choices, i.e. how much was consumed, at which price of the good. We will specify an economic model, and estimate the value of the preference parameter.\n",
    "\n",
    "The utility function is given generically as \n",
    "\n",
    "$$\n",
    "u(c;{\\color{red}\\beta})\n",
    "$$\n",
    "\n",
    "and there is a structural relationship dictated by theory between\n",
    "demand for consumption and price of the consumption good: demand will be such that\n",
    "the marginal utility of consumption is equal to price, in other words\n",
    "\n",
    "\\begin{equation}\n",
    "u_{c}(c;{\\color{red}\\beta})=p \\quad \\text{ (FOC)}\n",
    "\\end{equation}\n",
    "\n",
    "Our aim here is to show how one can estimate the parameter vector\n",
    "$\\beta$ quite easily with MPEC. This means that we set up an estimation\n",
    "procedure that is a constrainted maximization problem. Our estimate\n",
    "of $\\beta$ will be a parameter vector that satisfies FOC\n",
    "and at the same time minimizes some criterion function.\n",
    "\n",
    "In order to faciliate estimation, we assume that consumption is measured\n",
    "with error. In that case we don't observe actual consumption, but\n",
    "another variable `demand`, i.e. $q=c+\\epsilon$, where $\\epsilon$ follows some distribution function.\n",
    "Suppose we have $N$ measurements of price-demand pairs $\\left\\{ q_{i},p_{i}\\right\\} _{i=1}^{N}$.\n",
    "For the sake of this example, we assume a very simple form of the\n",
    "utility function; bear in mind, however, that the actual strength\n",
    "of MPEC is that one can dispense with the need to find convenient\n",
    "closed form solutions, just so that the model can be solved. Our utility\n",
    "will be quadratic, as in\n",
    "\n",
    "$$\n",
    "u(c;{\\color{red}\\beta})=c-{\\color{red}\\beta} c^{2}\n",
    "$$\n",
    "\n",
    "and marginal utility is \n",
    "$$ u_c = 1 - 2{\\color{red}\\beta} c $$\n",
    "\n",
    "Given our assumption about measurement error, we substitute out $c$\n",
    "\n",
    "\n",
    "$$ u_c = 1 - 2{\\color{red}\\beta} (q - \\epsilon) $$\n",
    "\n",
    "The economic model prescribes that\n",
    "\n",
    "$$ p = u_c $$\n",
    "\n",
    "or, in other words\n",
    "\n",
    "$$ p_i = 1 - 2{\\color{red}\\beta}(q_i - \\epsilon_i) $$\n",
    "\n",
    "Our estimation will be based on minimizing the sum of squared errors, $\\epsilon$\n",
    "subject to complying with constraint FOC. We solve the\n",
    "following problem:\n",
    "\n",
    "$$\n",
    "\\min_{\\left\\{ \\epsilon\\right\\} _{i=1}^{N},{\\color{red}\\beta}}  \\sum_{i=1}^{N}\\epsilon_{i}^{2}  \\\\\n",
    "s.t.  u_{c}(q_{i}-\\epsilon_{i};{\\color{red}\\beta})  =p_{i}\n",
    "$$\n",
    "\n",
    "\n",
    "We notice right away that the choice of $\\beta$ does not directly influence the value of the objective function, therefore both the objective and it's gradient will be independent of $\\beta$. However, every choice of $\\beta$ needs to go together with a corresponding choice of $\\epsilon$'s which need to be chosen s.t. the constraint is satisfied. This is not a general feature of MPEC, as in many cases the parameters of interest would appear in the objective. Also, in a more elaborate model, we would probably have some data that we would want to model to come close to; In that case our objective function would be augmented by the likelihood function of that data together with our model, or we could have a moment criterion etc.\n",
    "\n"
   ]
  },
  {
   "cell_type": "markdown",
   "metadata": {},
   "source": [
    "### Task 1: write down the Lagrangian of this problem\n",
    "\n"
   ]
  },
  {
   "cell_type": "markdown",
   "metadata": {},
   "source": [
    "### Task 2: What is the length of the choice vector?\n",
    "\n",
    "* What is the length of the choice vector $x$ here? what are it's elements?\n",
    "* What is the number of constraints?\n",
    "\n"
   ]
  },
  {
   "cell_type": "markdown",
   "metadata": {},
   "source": [
    "### Task 3: write down the constraint function and it's gradient wrt to $x$\n",
    "\n",
    "* Denote the constraint function $g$ as the collection of all constraints (there are $m=N$ constraints and $n=N+1$ choice variables). Write down a typical element $g_i$, i.e. what does the $i$-th constraint look like? \n",
    "\n",
    "\n",
    "* What does the gradient of $g$ look like? It's a matrix. Different solvers make different assumptions here. NLopt expects an $n$ by $m$ matrix, where `g[j,i]` should be $\\frac{\\partial g_i}{\\partial x_j}$\n"
   ]
  },
  {
   "cell_type": "markdown",
   "metadata": {},
   "source": [
    "### Task 4: Implement using plain vanilla NLopt\n",
    "\n",
    "Take\n",
    "\n",
    "* N=100 grid points\n",
    "* $\\beta = 0.1$ as true value\n",
    "* setup this as an MPEC problem in NLopt!"
   ]
  },
  {
   "cell_type": "code",
   "execution_count": 8,
   "metadata": {
    "collapsed": false
   },
   "outputs": [],
   "source": [
    "using Distributions\n",
    "srand(12345)\n",
    "normal = Normal(0,0.01)\n",
    "N = 100\n",
    "price = collect(linspace(0.05,0.95,N))\n",
    "beta0 = 0.1\n",
    "demand0 = (1.0-price) / (2*beta0)\n",
    "demand = demand0 - rand(normal,N);"
   ]
  },
  {
   "cell_type": "code",
   "execution_count": 9,
   "metadata": {
    "collapsed": false
   },
   "outputs": [
    {
     "data": {
      "text/plain": [
       "nlopt"
      ]
     },
     "execution_count": 9,
     "metadata": {},
     "output_type": "execute_result"
    }
   ],
   "source": [
    "module nlopt\n",
    "\n",
    "    using Distributions\n",
    "    using NLopt\n",
    "    srand(12345)\n",
    "    normal = Normal(0,0.01)\n",
    "    N = 100\n",
    "    price = collect(linspace(0.05,0.95,N))\n",
    "    beta0 = 0.1\n",
    "    demand0 = (1.0-price) / (2*beta0)\n",
    "    demand = demand0 - rand(normal,N)\n",
    "\n",
    "    # objective function\n",
    "    function obj(x,g)\n",
    "        # x = [e_1,...,e_N,beta] i.e. (N+1,1)\n",
    "        \n",
    "        # gradient = [grad w.r.t e_1,\n",
    "        #            ...,grad w.r.t e_N,\n",
    "        #                grad w.r.t beta] i.e. (N+1,1)\n",
    "        if length(g)>0\n",
    "           g[:] = vcat(2.0*x[1:(end-1)],0.0)\n",
    "\n",
    "        end\n",
    "        # value of objective\n",
    "        r = sum(x[1:(end-1)].^2)\n",
    "        return r\n",
    "    end\n",
    "\n",
    "    # \n",
    "    function constr(r::Vector,x::Vector,g::Matrix,n,q,p)\n",
    "        if length(g) > 0\n",
    "            # g has to be n by m for nlopt\n",
    "            # \\partial g_i / \\partial x_j\n",
    "            g[:,:] = cat(1,diagm(2*x[end]*ones(n)),-2*(q'.-x[1:(end-1)]'))\n",
    "        end\n",
    "        # value of contraints\n",
    "        r[:] = 1.0 - 2*x[end].*(q.-x[1:(end-1)]) .- p  # g_i\n",
    "    end\n",
    "    constr_clos(r::Vector,x::Vector,g::Matrix) = constr(r::Vector,x::Vector,g::Matrix,N,demand,price)\n",
    "\n",
    "    function run()\n",
    "        opt = Opt(:LD_SLSQP,N+1)\n",
    "        lower_bounds!(opt,[[-Inf for i in 1:N]...,0.0])\n",
    "        upper_bounds!(opt,[[Inf for i in 1:N]...,1.0])\n",
    "        min_objective!(opt,obj)\n",
    "        equality_constraint!(opt,constr_clos,[1e-10 for i in 1:N])\n",
    "        xtol_rel!(opt,1e-4)\n",
    "        ftol_rel!(opt,1e-6)\n",
    "\n",
    "        res = optimize(opt, vcat(rand(normal,N),0.9))\n",
    "        println(\"beta0 = $beta0\")\n",
    "        println(\"beta  = $(res[2][end])\")\n",
    "        r = zeros(N)\n",
    "        g =zeros(N+1,N)\n",
    "        constr(r,res[2],g,N,demand,price);\n",
    "        println(\"maximal error of constraint at solution = $(maxabs(r))\")\n",
    "        return res\n",
    "    end\n",
    "\n",
    "end # module"
   ]
  },
  {
   "cell_type": "markdown",
   "metadata": {},
   "source": [
    "### Task 5: Implement using JuMP\n",
    "\n",
    "* Here is where the fun starts.\n",
    "* Go back to HW-constrained for some inspiration!"
   ]
  },
  {
   "cell_type": "code",
   "execution_count": 10,
   "metadata": {
    "collapsed": false
   },
   "outputs": [
    {
     "name": "stderr",
     "output_type": "stream",
     "text": [
      "WARNING: replacing module jump\n"
     ]
    },
    {
     "data": {
      "text/plain": [
       "jump"
      ]
     },
     "execution_count": 10,
     "metadata": {},
     "output_type": "execute_result"
    }
   ],
   "source": [
    "module jump\n",
    "\n",
    "    using JuMP \n",
    "    using Distributions\n",
    "    srand(12345)\n",
    "    normal = Normal(0,0.01)\n",
    "    \n",
    "    function run()\n",
    "\n",
    "        # create a model\n",
    "\n",
    "        # define constants (N, price, etc)\n",
    "        N = 100\n",
    "        price = collect(linspace(0.05,0.95,N))\n",
    "        beta0 = 0.1\n",
    "        demand0 = (1.0-price) / (2*beta0)\n",
    "        demand = demand0 - rand(normal,N)\n",
    "\n",
    "        #define JuMP variables\n",
    "\n",
    "\n",
    "        # define constraints and objective\n",
    "        \n",
    "\n",
    "\n",
    "        # solve\n",
    "        status = solve(m)\n",
    "        Dict(:obj=>getobjectivevalue(m),:beta=>getvalue(beta),:eps=>getvalue(eps))\n",
    "    end\n",
    "end"
   ]
  }
 ],
 "metadata": {
  "kernelspec": {
   "display_name": "Julia 0.5.0",
   "language": "julia",
   "name": "julia-0.5"
  },
  "language_info": {
   "file_extension": ".jl",
   "mimetype": "application/julia",
   "name": "julia",
   "version": "0.5.0"
  }
 },
 "nbformat": 4,
 "nbformat_minor": 2
}
